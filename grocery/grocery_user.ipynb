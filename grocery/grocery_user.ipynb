{
 "cells": [
  {
   "cell_type": "code",
   "execution_count": 1,
   "metadata": {},
   "outputs": [
    {
     "name": "stdout",
     "output_type": "stream",
     "text": [
      "Hello!\n"
     ]
    }
   ],
   "source": [
    "### This program interacts with the customer for grocery shopping.\n",
    "\n",
    "print('Hello!')"
   ]
  },
  {
   "cell_type": "code",
   "execution_count": 2,
   "metadata": {},
   "outputs": [
    {
     "name": "stdout",
     "output_type": "stream",
     "text": [
      "What is your name?\n",
      "Jamie\n",
      "\n",
      "Hi, Jamie.\n",
      "\n"
     ]
    }
   ],
   "source": [
    "# input, assignment\n",
    "\n",
    "name = input('What is your name?\\n')\n",
    "# \\n starts a new line\n",
    "print('\\nHi, %s.\\n' % name)"
   ]
  },
  {
   "cell_type": "code",
   "execution_count": 3,
   "metadata": {},
   "outputs": [
    {
     "name": "stdout",
     "output_type": "stream",
     "text": [
      "In this season, fruits are healthy! What fruits would you like to buy?\n",
      "How many apples would you like?\n",
      "2\n",
      "How many oranges would you like?\n",
      "3\n",
      "How many peaches would you like?\n",
      "2\n",
      "How many bananas would you like?\n",
      "1\n",
      "\n",
      "That will be $2.95\n",
      "\n"
     ]
    }
   ],
   "source": [
    "# input, calculate prices\n",
    "\n",
    "print(\"In this season, fruits are healthy! What fruits would you like to buy?\")\n",
    "# dictionary of prices\n",
    "prices = {'apple':0.40, 'orange':0.25, 'peach':0.50, 'banana':0.40}\n",
    "apple = int(input('How many apples would you like?\\n'))\n",
    "orange = int(input('How many oranges would you like?\\n'))\n",
    "peach = int(input('How many peaches would you like?\\n'))\n",
    "banana = int(input('How many bananas would you like?\\n'))\n",
    "purchase = {'apple':apple, 'orange':orange, 'peach':peach, 'banana':banana}\n",
    "grocery_bill = sum(prices[fruit] * purchase[fruit]\n",
    "                    for fruit in purchase)\n",
    "print('\\nThat will be $%.2f\\n' % grocery_bill)"
   ]
  },
  {
   "cell_type": "code",
   "execution_count": 4,
   "metadata": {},
   "outputs": [
    {
     "name": "stdout",
     "output_type": "stream",
     "text": [
      "Halloween is coming up and there is a giveaway to our customers!\n",
      "\n",
      "Would you like to participate?\n",
      "Y or N?\n",
      "Y\n",
      "\n",
      "HALLOWEEN GIVEAWAY!\n",
      "\n",
      "        20 candy packets on the table,\n",
      "        take one down, pass it around,\n",
      "        19 candy packets left!\n",
      "        \n",
      "\n",
      "        19 candy packets on the table,\n",
      "        take one down, pass it around,\n",
      "        18 candy packets left!\n",
      "        \n",
      "\n",
      "        18 candy packets on the table,\n",
      "        take one down, pass it around,\n",
      "        17 candy packets left!\n",
      "        \n",
      "\n",
      "        17 candy packets on the table,\n",
      "        take one down, pass it around,\n",
      "        16 candy packets left!\n",
      "        \n",
      "\n",
      "        16 candy packets on the table,\n",
      "        take one down, pass it around,\n",
      "        15 candy packets left!\n",
      "        \n",
      "\n",
      "        15 candy packets on the table,\n",
      "        take one down, pass it around,\n",
      "        14 candy packets left!\n",
      "        \n",
      "\n",
      "        14 candy packets on the table,\n",
      "        take one down, pass it around,\n",
      "        13 candy packets left!\n",
      "        \n",
      "\n",
      "        13 candy packets on the table,\n",
      "        take one down, pass it around,\n",
      "        12 candy packets left!\n",
      "        \n",
      "\n",
      "        12 candy packets on the table,\n",
      "        take one down, pass it around,\n",
      "        11 candy packets left!\n",
      "        \n",
      "\n",
      "        11 candy packets on the table,\n",
      "        take one down, pass it around,\n",
      "        10 candy packets left!\n",
      "        \n",
      "\n",
      "        10 candy packets on the table,\n",
      "        take one down, pass it around,\n",
      "        9 candy packets left!\n",
      "        \n",
      "\n",
      "        9 candy packets on the table,\n",
      "        take one down, pass it around,\n",
      "        8 candy packets left!\n",
      "        \n",
      "\n",
      "        8 candy packets on the table,\n",
      "        take one down, pass it around,\n",
      "        7 candy packets left!\n",
      "        \n",
      "\n",
      "        7 candy packets on the table,\n",
      "        take one down, pass it around,\n",
      "        6 candy packets left!\n",
      "        \n",
      "\n",
      "        6 candy packets on the table,\n",
      "        take one down, pass it around,\n",
      "        5 candy packets left!\n",
      "        \n",
      "\n",
      "        5 candy packets on the table,\n",
      "        take one down, pass it around,\n",
      "        4 candy packets left!\n",
      "        \n",
      "\n",
      "        4 candy packets on the table,\n",
      "        take one down, pass it around,\n",
      "        3 candy packets left!\n",
      "        \n",
      "\n",
      "        3 candy packets on the table,\n",
      "        take one down, pass it around,\n",
      "        2 candy packets left!\n",
      "        \n",
      "\n",
      "        2 candy packets on the table,\n",
      "        take one down, pass it around,\n",
      "        1 candy packets left!\n",
      "        \n"
     ]
    }
   ],
   "source": [
    "# triple-quoted strings, while and if conditional loop\n",
    "\n",
    "print('Halloween is coming up and there is a giveaway to our customers!\\n')\n",
    "print('Would you like to participate?')\n",
    "yes_no = input('Y or N?\\n')\n",
    "candy_packets = 20\n",
    "candy_drain = 20\n",
    "if yes_no == 'Y':\n",
    "       print('\\nHALLOWEEN GIVEAWAY!')\n",
    "       candy_drain = '''\n",
    "        %d candy packets on the table,\n",
    "        take one down, pass it around,\n",
    "        %d candy packets left!\n",
    "        '''\n",
    "candy_packets = 20\n",
    "while candy_packets > 1:\n",
    "    print(candy_drain % (candy_packets,\n",
    "                         candy_packets - 1))\n",
    "    candy_packets -= 1"
   ]
  },
  {
   "cell_type": "code",
   "execution_count": 5,
   "metadata": {},
   "outputs": [
    {
     "name": "stdout",
     "output_type": "stream",
     "text": [
      "\n",
      "We always offer discounts according to the time you shop.\n",
      "\n",
      "No discount :(\n"
     ]
    }
   ],
   "source": [
    "# time, conditionals, from, import, for, else\n",
    "\n",
    "print('\\nWe always offer discounts according to the time you shop.\\n')\n",
    "from time import localtime\n",
    "discount = {2: '10% off',\n",
    "            3: '10% off',\n",
    "            4: '2% off',\n",
    "            5: '2% off',\n",
    "            6: '5% off',\n",
    "            7: '5% off',\n",
    "            12: '50% off'}\n",
    "current_time = localtime()\n",
    "hour = current_time.tm_hour\n",
    "for discount_time in sorted(discount):\n",
    "    # runs activities time in sorted time\n",
    "    if hour < discount_time:\n",
    "        print(discount[discount_time])\n",
    "    else:\n",
    "        print('No discount :(')\n",
    "    break"
   ]
  },
  {
   "cell_type": "code",
   "execution_count": 6,
   "metadata": {},
   "outputs": [
    {
     "name": "stdout",
     "output_type": "stream",
     "text": [
      "\n",
      "Did you find everything you needed?\n",
      "Y or N?\n",
      "Y\n",
      "\n",
      "You owe  12\n",
      "\n",
      "Right now, we only accept cash.\n",
      "How much would you like to give me?\n",
      "20\n",
      "Thank you. Here's you change of 8\n"
     ]
    }
   ],
   "source": [
    "# def init, deposit, withdraw, overdrawn classes\n",
    "\n",
    "print('\\nDid you find everything you needed?')    \n",
    "yes_no1 = input('Y or N?\\n')\n",
    "if yes_no1 == 'Y':\n",
    "    class wallet(object):\n",
    "        def __init__(money, initial_balance=0):\n",
    "            money.balance = initial_balance\n",
    "        def deposit(money, amount):\n",
    "            money.balance += amount\n",
    "        def withdraw(money, amount):\n",
    "            money.balance -= amount\n",
    "        def overdrawn(money):\n",
    "            return money.balance < 0  \n",
    "else:\n",
    "    print('\\nPlease ask a worker for help.')\n",
    "wallet_now = wallet(20)\n",
    "wallet_now.withdraw(10)\n",
    "wallet_now.deposit(2)\n",
    "print('\\nYou owe ', wallet_now.balance)    \n",
    "print('\\nRight now, we only accept cash.')\n",
    "payment = int(input('How much would you like to give me?\\n'))\n",
    "change =  payment - wallet_now.balance\n",
    "print(\"Thank you. Here's you change of\", change)"
   ]
  },
  {
   "cell_type": "code",
   "execution_count": 7,
   "metadata": {},
   "outputs": [
    {
     "name": "stdout",
     "output_type": "stream",
     "text": [
      "Sweet dreams!\n"
     ]
    }
   ],
   "source": [
    "# goodbye according to time\n",
    "\n",
    "from time import localtime\n",
    "current_time = localtime()\n",
    "hour = current_time.tm_hour\n",
    "if hour < 5:\n",
    "   print('Have a great day!')\n",
    "elif hour < 12:\n",
    "   print('Good night!')\n",
    "else:\n",
    "   print('Sweet dreams!')"
   ]
  }
 ],
 "metadata": {
  "kernelspec": {
   "display_name": "Python 3",
   "language": "python",
   "name": "python3"
  },
  "language_info": {
   "codemirror_mode": {
    "name": "ipython",
    "version": 3
   },
   "file_extension": ".py",
   "mimetype": "text/x-python",
   "name": "python",
   "nbconvert_exporter": "python",
   "pygments_lexer": "ipython3",
   "version": "3.6.5"
  }
 },
 "nbformat": 4,
 "nbformat_minor": 2
}
